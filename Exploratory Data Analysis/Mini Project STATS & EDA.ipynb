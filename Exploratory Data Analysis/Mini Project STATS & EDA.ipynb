{
 "cells": [
  {
   "cell_type": "markdown",
   "id": "02108987",
   "metadata": {},
   "source": [
    "# STATISTICS FOR ML"
   ]
  },
  {
   "cell_type": "markdown",
   "id": "5e0be2ef",
   "metadata": {},
   "source": [
    "### Importing the necessary Libraries"
   ]
  },
  {
   "cell_type": "code",
   "execution_count": 3,
   "id": "caa2cd60",
   "metadata": {},
   "outputs": [],
   "source": [
    "import numpy as np\n",
    "import pandas as pd\n",
    "import matplotlib.pyplot as plt\n",
    "import seaborn as sns\n",
    "from scipy.stats import stats\n",
    "from scipy import stats\n",
    "import random\n",
    "import warnings\n",
    "warnings.filterwarnings(action = 'ignore')"
   ]
  },
  {
   "cell_type": "markdown",
   "id": "300ab18e",
   "metadata": {},
   "source": [
    "## PART-A ( Concept Based)--25 points"
   ]
  },
  {
   "cell_type": "markdown",
   "id": "ce10d7f3",
   "metadata": {},
   "source": [
    "### The following are the ages of CEOs of 42 Top Fortune 500 Companies when they took over the post of CEO"
   ]
  },
  {
   "cell_type": "code",
   "execution_count": 4,
   "id": "4e092063",
   "metadata": {},
   "outputs": [],
   "source": [
    "a = [57,61,57,57,58,57,61,54,68,51,49,64,50,48,65,52,56,46,54,49,50,47,55,55,54,42,51,56,55,54,51,60,62,43,55,56,61,52,69,64,46,54]\n",
    "a_array = np.array(a)\n",
    "a_df = pd.DataFrame(a , columns = ['Age'])"
   ]
  },
  {
   "cell_type": "markdown",
   "id": "8fc21b88",
   "metadata": {},
   "source": [
    "#### Q1. Compute the mean, median and the mode of the data"
   ]
  },
  {
   "cell_type": "code",
   "execution_count": 5,
   "id": "f249a50a",
   "metadata": {},
   "outputs": [
    {
     "name": "stdout",
     "output_type": "stream",
     "text": [
      "The Mean of the data :  54.904761904761905\n",
      "The Median of the data :  55.0\n",
      "The Mode of the data : 54\n"
     ]
    }
   ],
   "source": [
    "a_mean = np.mean(a)\n",
    "a_median = np.median(a)\n",
    "a_mode = pd.Series(a).mode()[0]\n",
    "print('The Mean of the data : ',a_mean)\n",
    "print('The Median of the data : ',a_median)\n",
    "print('The Mode of the data :',a_mode)"
   ]
  },
  {
   "cell_type": "code",
   "execution_count": 6,
   "id": "79ad0ccf",
   "metadata": {},
   "outputs": [
    {
     "data": {
      "text/plain": [
       "<matplotlib.lines.Line2D at 0x28dab3d5700>"
      ]
     },
     "execution_count": 6,
     "metadata": {},
     "output_type": "execute_result"
    },
    {
     "data": {
      "image/png": "[encoded data removed]",
      "text/plain": [
       "<Figure size 500x300 with 1 Axes>"
      ]
     },
     "metadata": {},
     "output_type": "display_data"
    }
   ],
   "source": [
    "plt.figure(figsize=(5,3))\n",
    "sns.distplot(a)\n",
    "plt.axvline(a_mean , color = 'C1')\n",
    "plt.axvline(a_median , color = 'C2')\n",
    "plt.axvline(a_mode , color = 'C3')"
   ]
  },
  {
   "cell_type": "markdown",
   "id": "9f540a1f",
   "metadata": {},
   "source": [
    "#### Q2. Compute the range , variance and standard deviation of CEO ages"
   ]
  },
  {
   "cell_type": "code",
   "execution_count": 7,
   "id": "4c2af4e9",
   "metadata": {},
   "outputs": [
    {
     "name": "stdout",
     "output_type": "stream",
     "text": [
      "The Range is : 27\n",
      "The Variance is : 38.51473922902495\n",
      "The Standard Deviation : 6.2060244302633025\n"
     ]
    }
   ],
   "source": [
    "a_min = min(a)\n",
    "a_max = max(a)\n",
    "a_range = a_max - a_min\n",
    "a_variance = np.var(a)\n",
    "a_std = np.std(a)\n",
    "print('The Range is :',a_range)\n",
    "print('The Variance is :',a_variance)\n",
    "print('The Standard Deviation :',a_std)"
   ]
  },
  {
   "cell_type": "markdown",
   "id": "12f702d6",
   "metadata": {},
   "source": [
    "#### Q3. Find the Mean Deviation for the Data . The Mean Deviation is defined as below."
   ]
  },
  {
   "cell_type": "code",
   "execution_count": 8,
   "id": "f1e05384",
   "metadata": {},
   "outputs": [],
   "source": [
    "def mean_deviation(x):\n",
    "    temp = 0\n",
    "    for i in range(0,len(x)):\n",
    "        temp+=np.abs(x[i] - a_mean)\n",
    "    temp = temp/len(a)\n",
    "    return temp"
   ]
  },
  {
   "cell_type": "code",
   "execution_count": 9,
   "id": "f7565135",
   "metadata": {},
   "outputs": [
    {
     "name": "stdout",
     "output_type": "stream",
     "text": [
      "The Mean deviation is :  4.814058956916099\n"
     ]
    }
   ],
   "source": [
    "a_md = mean_deviation(a)\n",
    "print('The Mean deviation is : ',a_md)"
   ]
  },
  {
   "cell_type": "markdown",
   "id": "3acbb938",
   "metadata": {},
   "source": [
    "#### Q4. Calculate the Pearson coefficient of skewness and comment on theskewness of the data"
   ]
  },
  {
   "cell_type": "code",
   "execution_count": 10,
   "id": "9c237ff0",
   "metadata": {},
   "outputs": [],
   "source": [
    "def pearsons_cs(x):\n",
    "    return 3*(np.mean(x) - np.median(x))/np.std(x)"
   ]
  },
  {
   "cell_type": "code",
   "execution_count": 11,
   "id": "7e81f397",
   "metadata": {},
   "outputs": [
    {
     "name": "stdout",
     "output_type": "stream",
     "text": [
      "The Pearson Coefficient of Skewness is : -0.046038214790295746\n"
     ]
    }
   ],
   "source": [
    "a_pcs = pearsons_cs(a)\n",
    "print('The Pearson Coefficient of Skewness is :',a_pcs)"
   ]
  },
  {
   "cell_type": "markdown",
   "id": "98cea5c7",
   "metadata": {},
   "source": [
    "#### COMMENTS \n",
    "> - The Pearson Coefficient of Skewness indicates that the skewness of the distribution is slightly left skewed"
   ]
  },
  {
   "cell_type": "markdown",
   "id": "a5b0a7b9",
   "metadata": {},
   "source": [
    "#### Q5. Count the number of data values that fall within two standard deviations of the mean. Compare this with the answer from Chebyshev’s Theorem."
   ]
  },
  {
   "cell_type": "raw",
   "id": "09f79169",
   "metadata": {},
   "source": [
    "Chebyshev's theorem states that for any given dataset, at least 1 - (1/k^2) of the data will fall within k standard deviations of the mean. So, if you want to find the number of data values that fall within 2 standard deviations of the mean, you would use the formula 1 - (1/2^2) = 1 - (1/4) = 3/4, or 75%.\n",
    "\n",
    "To find the number of data values that fall within two standard deviations of the mean, you would first need to calculate the mean and standard deviation of the dataset. Then, you would count the number of data values that fall within 2 standard deviations of the mean.\n",
    "\n",
    "It is important to notice that Chebyshev's theorem is a loose bound, and it may not be accurate for your dataset, specially if your data is not uniformly distributed."
   ]
  },
  {
   "cell_type": "code",
   "execution_count": 12,
   "id": "12d18c03",
   "metadata": {},
   "outputs": [],
   "source": [
    "def data_values(x,n):\n",
    "    interval = (np.mean(x) - n*np.std(x) , np.mean(x) + n*np.std(x))\n",
    "    print('The interval is ',interval)\n",
    "    val = np.count_nonzero((interval[0] <= x) & (x <= interval[1]))\n",
    "    print('The number of values within the specified interval is : ',val)\n",
    "def Chebyshev_theorem(x):\n",
    "    sd = np.std(x)\n",
    "    n = int(input('Enter the number of deviations : '))\n",
    "    ct = (1 - (1/n**2))*100\n",
    "    print('The Number of values within the specified interval using Chebyshev’s theorem is : ',ct*len(a)/100)"
   ]
  },
  {
   "cell_type": "code",
   "execution_count": 13,
   "id": "9c344c43",
   "metadata": {},
   "outputs": [
    {
     "name": "stdout",
     "output_type": "stream",
     "text": [
      "The interval is  (42.4927130442353, 67.31681076528851)\n",
      "The number of values within the specified interval is :  39\n"
     ]
    }
   ],
   "source": [
    "data_values(a,2)"
   ]
  },
  {
   "cell_type": "code",
   "execution_count": 14,
   "id": "8c7ac600",
   "metadata": {},
   "outputs": [
    {
     "name": "stdout",
     "output_type": "stream",
     "text": [
      "Enter the number of deviations : 2\n",
      "The Number of values within the specified interval using Chebyshev’s theorem is :  31.5\n"
     ]
    }
   ],
   "source": [
    "Chebyshev_theorem(a)"
   ]
  },
  {
   "cell_type": "markdown",
   "id": "773af7a7",
   "metadata": {},
   "source": [
    "#### INFERENCE\n",
    "> - By comparing the two outputs , we can conclude that the value obtained using Chebyshev's theorm is not accurate and can be used only to fetch an approximate value of the count of values within the specified standard deviation interval"
   ]
  },
  {
   "cell_type": "markdown",
   "id": "57527372",
   "metadata": {},
   "source": [
    "#### Q6. Find the three quartiles and the interquartile range (IQR)"
   ]
  },
  {
   "cell_type": "code",
   "execution_count": 39,
   "id": "fb49b655",
   "metadata": {},
   "outputs": [],
   "source": [
    "def iqr(x):\n",
    "    global Q1,Q2,Q3,Q4,IQR,u_whisker,l_whisker\n",
    "    Q1 = x.quantile(0.25)\n",
    "    Q2 = x.quantile(0.50)\n",
    "    Q3 = x.quantile(0.75)\n",
    "    Q4 = x.quantile(1)\n",
    "    IQR = Q3 - Q1\n",
    "    u_whisker = Q3 + 1.5*IQR\n",
    "    l_whisker = Q1 - 1.5*IQR\n",
    "    \n",
    "    "
   ]
  },
  {
   "cell_type": "code",
   "execution_count": 40,
   "id": "9e3e1839",
   "metadata": {},
   "outputs": [
    {
     "name": "stdout",
     "output_type": "stream",
     "text": [
      "The three quartiles and iqr are as follows  \n",
      "The first quartile is :  51.0\n",
      "The two quartile is :  55.0\n",
      "The third quartile is :  57.75\n",
      "The Inter Quartile Range is :  6.75\n"
     ]
    }
   ],
   "source": [
    "iqr(a_df['Age'])\n",
    "print('The three quartiles and iqr are as follows  ')\n",
    "print('The first quartile is : ',Q1)\n",
    "print('The two quartile is : ',Q2)\n",
    "print('The third quartile is : ',Q3)\n",
    "print('The Inter Quartile Range is : ',IQR)"
   ]
  },
  {
   "cell_type": "markdown",
   "id": "f64def52",
   "metadata": {},
   "source": [
    "#### Q7. Are there any outliers in the data set ? "
   ]
  },
  {
   "cell_type": "code",
   "execution_count": 17,
   "id": "d12c476f",
   "metadata": {},
   "outputs": [
    {
     "name": "stdout",
     "output_type": "stream",
     "text": [
      "The Upper Whisker and Lower Whisker are  40.875  and  67.875 \n",
      "\n",
      "[68, 69] are the outliers\n"
     ]
    }
   ],
   "source": [
    "print('The Upper Whisker and Lower Whisker are ',l_whisker,' and ',u_whisker,'\\n')\n",
    "print(list(a_df[(a_df['Age'] < l_whisker) | (a_df['Age'] > u_whisker )]['Age'].values),'are the outliers')"
   ]
  },
  {
   "cell_type": "markdown",
   "id": "157333b2",
   "metadata": {},
   "source": [
    "#### Q8. Draw a boxplot of the dataset to confirm ."
   ]
  },
  {
   "cell_type": "code",
   "execution_count": 18,
   "id": "762e65f9",
   "metadata": {},
   "outputs": [
    {
     "name": "stdout",
     "output_type": "stream",
     "text": [
      "From the boxplot we can confirm that our data set contains outliers\n"
     ]
    },
    {
     "data": {
      "image/png": "[encoded data removed]",
      "text/plain": [
       "<Figure size 500x400 with 1 Axes>"
      ]
     },
     "metadata": {},
     "output_type": "display_data"
    }
   ],
   "source": [
    "print('From the boxplot we can confirm that our data set contains outliers')\n",
    "plt.figure(figsize=(5,4))\n",
    "a_df['Age'].plot(kind = 'box')\n",
    "plt.show()"
   ]
  },
  {
   "cell_type": "markdown",
   "id": "45c8817c",
   "metadata": {},
   "source": [
    "#### Q9. Find the percentile rank of the datapoint 50"
   ]
  },
  {
   "cell_type": "code",
   "execution_count": 19,
   "id": "b4c3ec81",
   "metadata": {},
   "outputs": [
    {
     "data": {
      "text/html": [
       "<div>\n",
       "<style scoped>\n",
       "    .dataframe tbody tr th:only-of-type {\n",
       "        vertical-align: middle;\n",
       "    }\n",
       "\n",
       "    .dataframe tbody tr th {\n",
       "        vertical-align: top;\n",
       "    }\n",
       "\n",
       "    .dataframe thead th {\n",
       "        text-align: right;\n",
       "    }\n",
       "</style>\n",
       "<table border=\"1\" class=\"dataframe\">\n",
       "  <thead>\n",
       "    <tr style=\"text-align: right;\">\n",
       "      <th></th>\n",
       "      <th>Age</th>\n",
       "      <th>PCT</th>\n",
       "    </tr>\n",
       "  </thead>\n",
       "  <tbody>\n",
       "    <tr>\n",
       "      <th>12</th>\n",
       "      <td>50</td>\n",
       "      <td>22.619048</td>\n",
       "    </tr>\n",
       "    <tr>\n",
       "      <th>20</th>\n",
       "      <td>50</td>\n",
       "      <td>22.619048</td>\n",
       "    </tr>\n",
       "  </tbody>\n",
       "</table>\n",
       "</div>"
      ],
      "text/plain": [
       "    Age        PCT\n",
       "12   50  22.619048\n",
       "20   50  22.619048"
      ]
     },
     "execution_count": 19,
     "metadata": {},
     "output_type": "execute_result"
    }
   ],
   "source": [
    "a_df['PCT'] = a_df['Age'].rank(pct=True)*100\n",
    "a_df[a_df['Age'] == 50]"
   ]
  },
  {
   "cell_type": "markdown",
   "id": "9196dac1",
   "metadata": {},
   "source": [
    "#### 10. What is the probability that a person becoming a CEO is below 50 yearsof age ?"
   ]
  },
  {
   "cell_type": "code",
   "execution_count": 20,
   "id": "624e930c",
   "metadata": {},
   "outputs": [
    {
     "name": "stdout",
     "output_type": "stream",
     "text": [
      "The probability that a person becoming a CEO is below 50 yearsof age is : 0.2146696702826586\n"
     ]
    }
   ],
   "source": [
    "z50 = (50 - a_mean)/a_std\n",
    "q10 = stats.norm.cdf(z50)\n",
    "print('The probability that a person becoming a CEO is below 50 yearsof age is :',q10)"
   ]
  },
  {
   "cell_type": "markdown",
   "id": "e4cc4faa",
   "metadata": {},
   "source": [
    "#### Q11. Create a frequency distribution for the data and visualize it appropriately"
   ]
  },
  {
   "cell_type": "code",
   "execution_count": 21,
   "id": "0915ca31",
   "metadata": {},
   "outputs": [
    {
     "data": {
      "text/plain": [
       "<AxesSubplot:>"
      ]
     },
     "execution_count": 21,
     "metadata": {},
     "output_type": "execute_result"
    },
    {
     "data": {
      "image/png": "[encoded data removed]",
      "text/plain": [
       "<Figure size 640x480 with 1 Axes>"
      ]
     },
     "metadata": {},
     "output_type": "display_data"
    }
   ],
   "source": [
    "a_df['Age'].value_counts().sort_index().to_frame().plot(kind = 'bar')"
   ]
  },
  {
   "cell_type": "markdown",
   "id": "2e5fa88a",
   "metadata": {},
   "source": [
    "#### Q12. Create a probability distribution of the data and visualize it appropriately"
   ]
  },
  {
   "cell_type": "code",
   "execution_count": 22,
   "id": "a688ea95",
   "metadata": {},
   "outputs": [
    {
     "data": {
      "text/plain": [
       "<AxesSubplot:>"
      ]
     },
     "execution_count": 22,
     "metadata": {},
     "output_type": "execute_result"
    },
    {
     "data": {
      "image/png": "[encoded data removed]",
      "text/plain": [
       "<Figure size 640x480 with 1 Axes>"
      ]
     },
     "metadata": {},
     "output_type": "display_data"
    }
   ],
   "source": [
    "a_df['Age'].value_counts(normalize=True).sort_index().plot(kind = 'bar')"
   ]
  },
  {
   "cell_type": "markdown",
   "id": "dc82e070",
   "metadata": {},
   "source": [
    "#### Q13. What is the shape of the distribution of this dataset? Create an appropriate graph to determine that. Take 100 random samples with replacement from this dataset of size 5 each. Create a sampling distribution ofthe mean age of customers. Compare with other sampling distributions of sample size 10, 15, 20, 25, 30. State your observations. Does it corroborate the Central Limit Theorem?\n"
   ]
  },
  {
   "cell_type": "code",
   "execution_count": 23,
   "id": "65179a01",
   "metadata": {},
   "outputs": [
    {
     "name": "stdout",
     "output_type": "stream",
     "text": [
      "The mean of sample means for sample size 5  are :  54.888000000000005\n",
      "The mean of sample means for sample size 10  are :  54.88399999999999\n",
      "The mean of sample means for sample size 15  are :  54.913111111111114\n",
      "The mean of sample means for sample size 20  are :  54.92145833333334\n",
      "The mean of sample means for sample size 25  are :  54.937486666666665\n",
      "The mean of sample means for sample size 30  are :  54.93957222222222\n",
      "Mean of population is :  54.904761904761905\n"
     ]
    }
   ],
   "source": [
    "sample_mean = []\n",
    "for sample_size in (5,10,15,20,25,30): \n",
    "    random.seed(sample_size)\n",
    "    for i in range (100):\n",
    "        rand_samp = random.choices(population = a , k = sample_size)\n",
    "        sample_mean.append(np.mean(rand_samp))\n",
    "    print('The mean of sample means for sample size',sample_size,' are : ',np.mean(sample_mean))\n",
    "print('Mean of population is : ',a_mean)"
   ]
  },
  {
   "cell_type": "markdown",
   "id": "ceabe572",
   "metadata": {},
   "source": [
    "#### Q14. Treat this dataset as a binomial distribution where p is the probability that a person becomes a CEO above 50 years age. What is the probability that out of a random sample of 10 CEOs of Fortune 500 companies exactly 6are above 50 years of age?"
   ]
  },
  {
   "cell_type": "code",
   "execution_count": 24,
   "id": "d9710a8f",
   "metadata": {},
   "outputs": [
    {
     "name": "stdout",
     "output_type": "stream",
     "text": [
      "the probability that exactly 6 are above 50 years of age is : 0.13201590604140495\n"
     ]
    }
   ],
   "source": [
    "#Treating it as a Binomial Distribution\n",
    "x = 6\n",
    "n = 10\n",
    "p = len(a_array[a_array > 50])/len(a_array)\n",
    "q14 = stats.binom.pmf(x , n , p)\n",
    "print('the probability that exactly 6 are above 50 years of age is :',q14)"
   ]
  },
  {
   "cell_type": "markdown",
   "id": "956b3063",
   "metadata": {},
   "source": [
    "#### Q15. A study claims that 25% of all Fortune 500 companies becoming a CEOare above 60 years of age. Using the Normal approximation of a Binomial distribution, find the probability that in a random sample of 300 Fortune 500 companies exactly 75 CEOs will be above 50 years of age. \n",
    "#### [ Note that the normal distribution can be used to approximate a binomial distribution if np>=5 and nq>=5 with the following correction for continuity P(X=z) = P(z-0.5 < X < z+0.5 ) ]\n"
   ]
  },
  {
   "cell_type": "code",
   "execution_count": 25,
   "id": "d193177b",
   "metadata": {},
   "outputs": [
    {
     "name": "stdout",
     "output_type": "stream",
     "text": [
      "The probability that exactly 75 CEOs will be above 50 years of age is :  0.0531283151571921\n"
     ]
    }
   ],
   "source": [
    "p = 25/100\n",
    "x = 75\n",
    "n = 300\n",
    "q15 = stats.binom.pmf(x , n , p)\n",
    "print('The probability that exactly 75 CEOs will be above 50 years of age is : ',q15)"
   ]
  },
  {
   "cell_type": "markdown",
   "id": "f988a61d",
   "metadata": {},
   "source": [
    "#### Q16. Compute a 95% Confidence Interval for the true mean age of the population of CEOs for the given dataset using appropriate distribution.( State reasons as to why did you use a z or t distribution)"
   ]
  },
  {
   "cell_type": "code",
   "execution_count": 26,
   "id": "6fb18475",
   "metadata": {},
   "outputs": [
    {
     "name": "stdout",
     "output_type": "stream",
     "text": [
      "Confidence Interval for the true mean age of the population is :  53.02788008884848 and 56.78164372067533\n",
      "\n",
      " We use Z Distribution since the sample size is greater than 30\n"
     ]
    }
   ],
   "source": [
    "confidence = 0.95\n",
    "q16 = stats.norm.interval(confidence = confidence , loc = a_mean , scale = a_std/(len(a))**0.5)\n",
    "print('Confidence Interval for the true mean age of the population is : ',q16[0],'and',q16[1])\n",
    "print('\\n We use Z Distribution since the sample size is greater than 30')"
   ]
  },
  {
   "cell_type": "markdown",
   "id": "975946f7",
   "metadata": {},
   "source": [
    "#### Q17. A data scientist wants to estimate with 95% confidence the proportion of CEOs of Fortune 500 companies are above 60 years in the population. Another recent study showed that 25% of CEOs interviewed were above 60. The data scientist wants to be accurate within 2% of the true proportion. Find the minimum sample size necessary."
   ]
  },
  {
   "cell_type": "code",
   "execution_count": 27,
   "id": "40b8b787",
   "metadata": {},
   "outputs": [
    {
     "name": "stdout",
     "output_type": "stream",
     "text": [
      "The Minimum Sample Size required is :  1800.683822200372\n"
     ]
    }
   ],
   "source": [
    "alpha  = 0.05\n",
    "Margin_of_error = 0.02\n",
    "p = 0.25\n",
    "Z_alpha_by_2 = stats.norm.isf(alpha/2)\n",
    "n =  (Z_alpha_by_2**2) * p * (1-p) / (Margin_of_error**2) \n",
    "print('The Minimum Sample Size required is : ',n)"
   ]
  },
  {
   "cell_type": "markdown",
   "id": "5a8a7c51",
   "metadata": {},
   "source": [
    "#### Q18. The same data scientist wants to estimate the true proportion of CEOs ascending to the post and above 60 years. She wants to be 90% confident and accurate within 5% of true proportion. Find the minimum sample size necessary"
   ]
  },
  {
   "cell_type": "code",
   "execution_count": 28,
   "id": "5236f18b",
   "metadata": {},
   "outputs": [
    {
     "name": "stdout",
     "output_type": "stream",
     "text": [
      "The Minimum Sample Size required is :  202.91575905715607\n"
     ]
    }
   ],
   "source": [
    "alpha = 0.1\n",
    "Margin_of_error = 0.05\n",
    "p = 0.25\n",
    "Z_alpha_by_2 = stats.norm.isf(alpha/2)\n",
    "n = (Z_alpha_by_2**2) * p * (1-p) / (Margin_of_error**2)\n",
    "print('The Minimum Sample Size required is : ',n)"
   ]
  },
  {
   "cell_type": "markdown",
   "id": "1b468415",
   "metadata": {},
   "source": [
    "#### Q19. A researcher claims that currently 25% of all CEOS are above 60 years .Test his claim with an alpha = 0.05 if out of a random sample of 30 CEOs only10 are above 60 years.\n"
   ]
  },
  {
   "cell_type": "code",
   "execution_count": 29,
   "id": "68a8d555",
   "metadata": {},
   "outputs": [],
   "source": [
    "p0 = 0.25\n",
    "x= 10\n",
    "n = 30\n",
    "p1 = x/n\n",
    "alpha = 0.05\n"
   ]
  },
  {
   "cell_type": "code",
   "execution_count": 30,
   "id": "e497a95e",
   "metadata": {},
   "outputs": [],
   "source": [
    "def z_test():\n",
    "    print('Zstat is :',Zstat)\n",
    "    print('Zcritical is :',Zcritical,'\\n')\n",
    "    if Zstat > Zcritical:\n",
    "        print('Reject Null Hypothesis')\n",
    "    else:\n",
    "        print('Failed to Reject Null Hypothesis')\n",
    "def p_test():\n",
    "    print('The P Value is :',p_value,'\\n')\n",
    "    if p_value < alpha:\n",
    "        print('Reject Null Hypothesis')\n",
    "    else:\n",
    "        print('Failed to reject Null Hypothesis')"
   ]
  },
  {
   "cell_type": "raw",
   "id": "c8cd980d",
   "metadata": {},
   "source": [
    "H0 : p0=p1\n",
    "H1 : p0 != p1"
   ]
  },
  {
   "cell_type": "code",
   "execution_count": 31,
   "id": "551e6cf7",
   "metadata": {},
   "outputs": [
    {
     "name": "stdout",
     "output_type": "stream",
     "text": [
      "Zstat is : 1.0540925533894596\n",
      "Zcritical is : 1.9599639845400545 \n",
      "\n",
      "Failed to Reject Null Hypothesis\n"
     ]
    }
   ],
   "source": [
    "Zstat = (p1 - p0)/((p0*(1-p0))/n)**0.5\n",
    "Zcritical = stats.norm.isf(alpha/2)\n",
    "z_test()"
   ]
  },
  {
   "cell_type": "code",
   "execution_count": 32,
   "id": "a9a65210",
   "metadata": {},
   "outputs": [
    {
     "name": "stdout",
     "output_type": "stream",
     "text": [
      "The P Value is : 0.29184054514378865 \n",
      "\n",
      "Failed to reject Null Hypothesis\n"
     ]
    }
   ],
   "source": [
    "p_value = 2*stats.norm.sf(Zstat)\n",
    "p_test()"
   ]
  },
  {
   "cell_type": "markdown",
   "id": "76529e9d",
   "metadata": {},
   "source": [
    "#### Q20. Assume you are a data scientist for the Fortune 500 companies. You areasked to research the question whether the CEO ages of UK are on average older than the CEO ages of Americans. you take a random sample of 40 CEO ages from America and UK and the data is as follows:"
   ]
  },
  {
   "cell_type": "code",
   "execution_count": 33,
   "id": "1ebf5504",
   "metadata": {},
   "outputs": [
    {
     "name": "stdout",
     "output_type": "stream",
     "text": [
      "[47, 49, 73, 50, 65, 70, 49, 47, 40, 43, 46, 35, 38, 40, 47, 39, 49, 37, 37, 36, 40, 37, 31, 48, 48, 45, 52, 38, 38, 36, 44, 40, 48, 45, 45, 36, 39, 44, 52, 47] \n",
      " Number of Data points is :  40 \n",
      "\n",
      "[47, 57, 52, 47, 48, 56, 56, 52, 50, 40, 46, 43, 44, 51, 36, 42, 49, 49, 40, 43, 39, 39, 22, 41, 45, 46, 39, 32, 36, 32, 32, 32, 37, 33, 44, 49, 44, 44, 49, 32] \n",
      " Number of Data points is :  40 \n",
      "\n"
     ]
    }
   ],
   "source": [
    "UK_1 = '47 49 73 50 65 70 49 47 40 43 46 35 38 40 47 39 49 37 37 36 40 37 31 48 48 45 52 38 38 36 44 40 48 45 45 36 39 44 52 47'\n",
    "UK_2  = UK_1.split(' ')\n",
    "UK = []\n",
    "for i in UK_2:\n",
    "    UK.append(int(i))\n",
    "USA_1 = '47 57 52 47 48 56 56 52 50 40 46 43 44 51 36 42 49 49 40 43 39 39 22 41 45 46 39 32 36 32 32 32 37 33 44 49 44 44 49 32'\n",
    "USA_2 = USA_1.split(' ')\n",
    "USA =[]\n",
    "for j in USA_2:\n",
    "    USA.append(int(j))\n",
    "print(UK,'\\n','Number of Data points is : ',len(UK),'\\n')\n",
    "print(USA,'\\n','Number of Data points is : ',len(USA),'\\n')"
   ]
  },
  {
   "cell_type": "markdown",
   "id": "1c698f4f",
   "metadata": {},
   "source": [
    "#### a. What are your hypotheses?"
   ]
  },
  {
   "cell_type": "raw",
   "id": "4ff962fa",
   "metadata": {},
   "source": [
    "H0 : Mu_UK <= Mu_USA\n",
    "H1 : Mu_UK > Mu_USA"
   ]
  },
  {
   "cell_type": "markdown",
   "id": "c45e433d",
   "metadata": {},
   "source": [
    "#### b. What significance level will you use?"
   ]
  },
  {
   "cell_type": "raw",
   "id": "7f0760a4",
   "metadata": {},
   "source": [
    "Since the Significance is not mention , as a default value , we shall consider 95% as the level of confidence"
   ]
  },
  {
   "cell_type": "markdown",
   "id": "d53d635f",
   "metadata": {},
   "source": [
    "#### c. What statistical test will you use?"
   ]
  },
  {
   "cell_type": "code",
   "execution_count": 34,
   "id": "5655ae13",
   "metadata": {},
   "outputs": [
    {
     "name": "stdout",
     "output_type": "stream",
     "text": [
      "1.0018742016808726\n",
      "0.3195023563852081\n"
     ]
    }
   ],
   "source": [
    "# The data scientist will use an independent samples t-test to determine \n",
    "# whether the mean age of CEOs in UK is greater than the mean age of CEOs in America.\n",
    "# This test is used to compare the means of two independent groups and\n",
    "# is appropriate when the sample size is small and the population standard deviation is unknown.\n",
    "\n",
    "\n",
    "from scipy.stats import ttest_ind\n",
    "from statistics import mean, sqrt\n",
    "UK_data = [47, 49, 73, 50, 65, 70, 49, 47, 40, 43, 46, 35, 38, 40, 47, 39, 49, 37, 37, 36, 40, 37, 31, 48, 48, 45, 52, 38, 38, 36, 44, 40, 48, 45, 45, 36, 39, 44, 52, 47]\n",
    "USA_data = [47, 57, 52, 47, 48, 56, 56, 52, 50, 40, 46, 43, 44, 51, 36, 42, 49, 49, 40, 43, 39, 39, 22, 41, 45, 46, 39, 32, 36, 32, 32, 32, 37, 33, 44, 49, 44, 44, 49, 32]\n",
    "t_stat, p_val = ttest_ind(UK_data, USA_data)\n",
    "print(t_stat)\n",
    "print(p_val)\n",
    "\n",
    "x1 = mean(UK_data)\n",
    "x2 = mean(USA_data)\n"
   ]
  },
  {
   "cell_type": "markdown",
   "id": "7e55be29",
   "metadata": {},
   "source": [
    "#### d. What are the test results? (Assume s1 = 8.8 and s2= 7.8.)"
   ]
  },
  {
   "cell_type": "code",
   "execution_count": 35,
   "id": "7664d8d1",
   "metadata": {},
   "outputs": [],
   "source": [
    "# Assuming that \n",
    "s1 = 8.8  \n",
    "s2 = 7.8 # we can use the following steps to perform the t-test:\n",
    "\n",
    "# Calculate the sample means:\n",
    "x1 = mean(UK_data)\n",
    "x2 = mean(USA_data)\n",
    "\n",
    "n1 = len(UK_data)\n",
    "n2 = len(USA_data)\n",
    "\n",
    "#Calculate the pooled standard deviation:\n",
    "s = sqrt(((n1-1) * s1**2 + (n2-1) * s2**2) / (n1 + n2 - 2))\n",
    "\n",
    "#Calculate the t-statistic:\n",
    "t = (x1 - x2) / (s * sqrt(1/n1 + 1/n2))"
   ]
  },
  {
   "cell_type": "code",
   "execution_count": 36,
   "id": "aede28d9",
   "metadata": {},
   "outputs": [
    {
     "ename": "TypeError",
     "evalue": "unsupported operand type(s) for -: 't_gen' and 'int'",
     "output_type": "error",
     "traceback": [
      "\u001b[1;31m---------------------------------------------------------------------------\u001b[0m",
      "\u001b[1;31mTypeError\u001b[0m                                 Traceback (most recent call last)",
      "\u001b[1;32m~\\AppData\\Local\\Temp\\ipykernel_3788\\55556071.py\u001b[0m in \u001b[0;36m<module>\u001b[1;34m\u001b[0m\n\u001b[0;32m      5\u001b[0m \u001b[0mn2\u001b[0m \u001b[1;33m=\u001b[0m \u001b[0mlen\u001b[0m\u001b[1;33m(\u001b[0m\u001b[0mUSA_data\u001b[0m\u001b[1;33m)\u001b[0m\u001b[1;33m\u001b[0m\u001b[1;33m\u001b[0m\u001b[0m\n\u001b[0;32m      6\u001b[0m \u001b[0mdf\u001b[0m \u001b[1;33m=\u001b[0m \u001b[0mn1\u001b[0m \u001b[1;33m+\u001b[0m \u001b[0mn2\u001b[0m \u001b[1;33m-\u001b[0m \u001b[1;36m2\u001b[0m\u001b[1;33m\u001b[0m\u001b[1;33m\u001b[0m\u001b[0m\n\u001b[1;32m----> 7\u001b[1;33m \u001b[0mp_value\u001b[0m \u001b[1;33m=\u001b[0m \u001b[1;33m(\u001b[0m\u001b[1;36m1\u001b[0m \u001b[1;33m-\u001b[0m \u001b[0mt\u001b[0m\u001b[1;33m.\u001b[0m\u001b[0mcdf\u001b[0m\u001b[1;33m(\u001b[0m\u001b[0mt\u001b[0m\u001b[1;33m,\u001b[0m \u001b[0mdf\u001b[0m\u001b[1;33m)\u001b[0m\u001b[1;33m)\u001b[0m \u001b[1;33m*\u001b[0m \u001b[1;36m2\u001b[0m\u001b[1;33m\u001b[0m\u001b[1;33m\u001b[0m\u001b[0m\n\u001b[0m",
      "\u001b[1;32m~\\anaconda3\\lib\\site-packages\\scipy\\stats\\_distn_infrastructure.py\u001b[0m in \u001b[0;36mcdf\u001b[1;34m(self, x, *args, **kwds)\u001b[0m\n\u001b[0;32m   2166\u001b[0m         \u001b[0m_a\u001b[0m\u001b[1;33m,\u001b[0m \u001b[0m_b\u001b[0m \u001b[1;33m=\u001b[0m \u001b[0mself\u001b[0m\u001b[1;33m.\u001b[0m\u001b[0m_get_support\u001b[0m\u001b[1;33m(\u001b[0m\u001b[1;33m*\u001b[0m\u001b[0margs\u001b[0m\u001b[1;33m)\u001b[0m\u001b[1;33m\u001b[0m\u001b[1;33m\u001b[0m\u001b[0m\n\u001b[0;32m   2167\u001b[0m         \u001b[0mdtyp\u001b[0m \u001b[1;33m=\u001b[0m \u001b[0mnp\u001b[0m\u001b[1;33m.\u001b[0m\u001b[0mfind_common_type\u001b[0m\u001b[1;33m(\u001b[0m\u001b[1;33m[\u001b[0m\u001b[0mx\u001b[0m\u001b[1;33m.\u001b[0m\u001b[0mdtype\u001b[0m\u001b[1;33m,\u001b[0m \u001b[0mnp\u001b[0m\u001b[1;33m.\u001b[0m\u001b[0mfloat64\u001b[0m\u001b[1;33m]\u001b[0m\u001b[1;33m,\u001b[0m \u001b[1;33m[\u001b[0m\u001b[1;33m]\u001b[0m\u001b[1;33m)\u001b[0m\u001b[1;33m\u001b[0m\u001b[1;33m\u001b[0m\u001b[0m\n\u001b[1;32m-> 2168\u001b[1;33m         \u001b[0mx\u001b[0m \u001b[1;33m=\u001b[0m \u001b[0mnp\u001b[0m\u001b[1;33m.\u001b[0m\u001b[0masarray\u001b[0m\u001b[1;33m(\u001b[0m\u001b[1;33m(\u001b[0m\u001b[0mx\u001b[0m \u001b[1;33m-\u001b[0m \u001b[0mloc\u001b[0m\u001b[1;33m)\u001b[0m\u001b[1;33m/\u001b[0m\u001b[0mscale\u001b[0m\u001b[1;33m,\u001b[0m \u001b[0mdtype\u001b[0m\u001b[1;33m=\u001b[0m\u001b[0mdtyp\u001b[0m\u001b[1;33m)\u001b[0m\u001b[1;33m\u001b[0m\u001b[1;33m\u001b[0m\u001b[0m\n\u001b[0m\u001b[0;32m   2169\u001b[0m         \u001b[0mcond0\u001b[0m \u001b[1;33m=\u001b[0m \u001b[0mself\u001b[0m\u001b[1;33m.\u001b[0m\u001b[0m_argcheck\u001b[0m\u001b[1;33m(\u001b[0m\u001b[1;33m*\u001b[0m\u001b[0margs\u001b[0m\u001b[1;33m)\u001b[0m \u001b[1;33m&\u001b[0m \u001b[1;33m(\u001b[0m\u001b[0mscale\u001b[0m \u001b[1;33m>\u001b[0m \u001b[1;36m0\u001b[0m\u001b[1;33m)\u001b[0m\u001b[1;33m\u001b[0m\u001b[1;33m\u001b[0m\u001b[0m\n\u001b[0;32m   2170\u001b[0m         \u001b[0mcond1\u001b[0m \u001b[1;33m=\u001b[0m \u001b[0mself\u001b[0m\u001b[1;33m.\u001b[0m\u001b[0m_open_support_mask\u001b[0m\u001b[1;33m(\u001b[0m\u001b[0mx\u001b[0m\u001b[1;33m,\u001b[0m \u001b[1;33m*\u001b[0m\u001b[0margs\u001b[0m\u001b[1;33m)\u001b[0m \u001b[1;33m&\u001b[0m \u001b[1;33m(\u001b[0m\u001b[0mscale\u001b[0m \u001b[1;33m>\u001b[0m \u001b[1;36m0\u001b[0m\u001b[1;33m)\u001b[0m\u001b[1;33m\u001b[0m\u001b[1;33m\u001b[0m\u001b[0m\n",
      "\u001b[1;31mTypeError\u001b[0m: unsupported operand type(s) for -: 't_gen' and 'int'"
     ]
    }
   ],
   "source": [
    "#Find the p-value using the t-distribution:\n",
    "from scipy.stats import t\n",
    "\n",
    "n1 = len(UK_data)\n",
    "n2 = len(USA_data)\n",
    "df = n1 + n2 - 2\n",
    "p_value = (1 - t.cdf(t, df)) * 2"
   ]
  },
  {
   "cell_type": "markdown",
   "id": "6f1de9d1",
   "metadata": {},
   "source": [
    "#### e. What is your decision?"
   ]
  },
  {
   "cell_type": "code",
   "execution_count": null,
   "id": "9666250a",
   "metadata": {},
   "outputs": [],
   "source": [
    "# The decision is based on the p-value obtained from the t-test.\n",
    "# If the p-value is less than the significance level (alpha),\n",
    "# we reject the null hypothesis "
   ]
  },
  {
   "cell_type": "markdown",
   "id": "f821f2e5",
   "metadata": {},
   "source": [
    "#### f. What can you conclude?"
   ]
  },
  {
   "cell_type": "code",
   "execution_count": null,
   "id": "47c6bc65",
   "metadata": {},
   "outputs": [],
   "source": [
    "#conclude that there is not enough evidence to suggest that the mean age of CEOs in UK is greater than the mean age of CEOs in America.\n"
   ]
  },
  {
   "cell_type": "markdown",
   "id": "0aa3e775",
   "metadata": {},
   "source": [
    "#### g. Do you feel that using the data given really answers the original question asked?"
   ]
  },
  {
   "cell_type": "code",
   "execution_count": null,
   "id": "287a30ac",
   "metadata": {},
   "outputs": [],
   "source": [
    "#Using the data given may not fully answer the original question asked because\n",
    "# it is a sample of data and not a complete representation of the population of all CEO ages of Fortune 500 companies\n",
    "# in the UK and USA.\n",
    "# The sample data may not be representative of the population or may not have enough power to detect a difference if one exists."
   ]
  },
  {
   "cell_type": "markdown",
   "id": "2133c55a",
   "metadata": {},
   "source": [
    "#### h. What other data might be used to answer the question?"
   ]
  },
  {
   "cell_type": "raw",
   "id": "b61f5d09",
   "metadata": {},
   "source": [
    "# To answer the question of whether the CEO ages of UK are on average older than the CEO ages of Americans, other data that might be used include:\n",
    "\n",
    "# 1. Complete data on the ages of all CEOs of Fortune 500 companies in the UK and USA: \n",
    "# Having a larger sample size and complete data on the population would provide a more accurate representation of the ages of CEOs in these countries.\n",
    "\n",
    "Data on other demographic characteristics of CEOs: This could include information on gender, education, and experience, which may be related to age and could provide a more comprehensive understanding of the differences between the populations.\n",
    "\n",
    "Data on the industries and sectors in which the companies operate: This could provide insight into the types of companies that tend to have older CEOs and whether these differences are industry-specific or generalizable across industries.\n",
    "\n",
    "Time series data, that is, data from different years. This would enable one to observe if there is a trend over time in the ages of CEOs in the UK and USA.\n",
    "\n",
    "Data on the company's performance, for example, revenue, profit, market share, etc. This would enable one to see if there is a relationship between the age of the CEO and the company's performance."
   ]
  },
  {
   "cell_type": "markdown",
   "id": "97d3f236",
   "metadata": {},
   "source": [
    "# EDA "
   ]
  },
  {
   "cell_type": "markdown",
   "id": "e7fabdad",
   "metadata": {},
   "source": [
    "#### Importing the necessary Libraries"
   ]
  },
  {
   "cell_type": "code",
   "execution_count": null,
   "id": "4afcc9b6",
   "metadata": {},
   "outputs": [],
   "source": [
    "import numpy as np\n",
    "import pandas as pd\n",
    "import matplotlib.pyplot as plt\n",
    "import seaborn as sns"
   ]
  },
  {
   "cell_type": "markdown",
   "id": "0c86137a",
   "metadata": {},
   "source": [
    "#### 1. Import the dataset and view the first 10 rows of it.\n"
   ]
  },
  {
   "cell_type": "code",
   "execution_count": null,
   "id": "7b3f3312",
   "metadata": {},
   "outputs": [],
   "source": [
    "df = pd.read_csv(r\"C:\\Users\\NIMAL\\Desktop\\Python\\GL DSE OCT22'\\Mini Project\\3 EDA & STATS\\Project 2\\creditcard.csv\")\n",
    "df.head(10)"
   ]
  },
  {
   "cell_type": "markdown",
   "id": "c1e27860",
   "metadata": {},
   "source": [
    "#### 2. Display shape/dimension of the dataset."
   ]
  },
  {
   "cell_type": "code",
   "execution_count": null,
   "id": "752eb43f",
   "metadata": {},
   "outputs": [],
   "source": [
    "print('The shape of the data is ',df.shape)\n",
    "print('The dimension of the data is ',df.ndim)"
   ]
  },
  {
   "cell_type": "markdown",
   "id": "d5656fcd",
   "metadata": {},
   "source": [
    "#### 3. Check for the missing values. Display number of missing values per column."
   ]
  },
  {
   "cell_type": "code",
   "execution_count": null,
   "id": "d009bf46",
   "metadata": {},
   "outputs": [],
   "source": [
    "df.isnull().sum().head(5)"
   ]
  },
  {
   "cell_type": "markdown",
   "id": "e64bc38a",
   "metadata": {},
   "source": [
    "#### 4. Check the datatype, number of non-null values and name of each variable in the dataset."
   ]
  },
  {
   "cell_type": "code",
   "execution_count": null,
   "id": "e0ce2700",
   "metadata": {},
   "outputs": [],
   "source": [
    "df.info()"
   ]
  },
  {
   "cell_type": "markdown",
   "id": "05ead3d0",
   "metadata": {},
   "source": [
    "#### 5. Check if there are any non-real characters in the dataset.\n"
   ]
  },
  {
   "cell_type": "code",
   "execution_count": null,
   "id": "cea4e650",
   "metadata": {},
   "outputs": [],
   "source": []
  },
  {
   "cell_type": "markdown",
   "id": "9fdff7f5",
   "metadata": {},
   "source": [
    "#### 6. Check the descriptive statistics of the dataset."
   ]
  },
  {
   "cell_type": "code",
   "execution_count": null,
   "id": "b734ea79",
   "metadata": {},
   "outputs": [],
   "source": [
    "df.describe()"
   ]
  },
  {
   "cell_type": "markdown",
   "id": "c11fa157",
   "metadata": {},
   "source": [
    "#### 7. Check the number of fraudulent transactions in the dataset and visualize using pie chart and bar plot.\n"
   ]
  },
  {
   "cell_type": "code",
   "execution_count": null,
   "id": "12b7d026",
   "metadata": {},
   "outputs": [],
   "source": [
    "df['Class'].value_counts()"
   ]
  },
  {
   "cell_type": "code",
   "execution_count": null,
   "id": "3aaed92f",
   "metadata": {},
   "outputs": [],
   "source": [
    "plt.title('Type of Transaction')\n",
    "plt.pie(x = df['Class'].value_counts() , autopct='%.2f%%' , labels=['Legit','Fraud'] , explode = [0,0.9])\n",
    "\n",
    "plt.show()"
   ]
  },
  {
   "cell_type": "markdown",
   "id": "31e9ef0d",
   "metadata": {},
   "source": [
    "#### 8. Check the maximum and minimum fraudulent amount."
   ]
  },
  {
   "cell_type": "code",
   "execution_count": null,
   "id": "d419fa6b",
   "metadata": {},
   "outputs": [],
   "source": [
    "fraud_maxamount = df[df['Class'] == 1]['Amount'].max()\n",
    "fraud_minamount = df[df['Class'] == 1]['Amount'].min()\n",
    "print('The Maximum Fraudulent Amount is : ',fraud_maxamount)\n",
    "print('The Minimun Fraudulent Amount is : ',fraud_minamount)"
   ]
  },
  {
   "cell_type": "markdown",
   "id": "dadd4edb",
   "metadata": {},
   "source": [
    "#### 9. Check the number of transactions where the transaction amount is zeroand consider as a fraud transaction."
   ]
  },
  {
   "cell_type": "code",
   "execution_count": null,
   "id": "474f2696",
   "metadata": {},
   "outputs": [],
   "source": [
    "No_of_0_FTrans = df[(df['Class'] == 1) & (df['Amount'] == 0)][['Class','Amount']].value_counts().values[0]\n",
    "print('The number of transactions where the transaction amount is zero and consider as a fraud transaction is :',No_of_0_FTrans)"
   ]
  },
  {
   "cell_type": "markdown",
   "id": "e63df473",
   "metadata": {},
   "source": [
    "#### 10. Check the distribution of columns. List down columns that are normally distributed. List down columns that are not normally distributed."
   ]
  },
  {
   "cell_type": "code",
   "execution_count": null,
   "id": "006eea77",
   "metadata": {
    "scrolled": false
   },
   "outputs": [],
   "source": [
    "cols = df.columns\n",
    "li=[]\n",
    "sk_di = {}\n",
    "for i in cols:\n",
    "    print('Column Name :',i)\n",
    "    skewness = df[i].skew()\n",
    "    sk_di[i] = skewness\n",
    "    print('The skewness of ',i,'is :',skewness)\n",
    "    if (skewness<0.09) & (skewness>-0.09):\n",
    "        li.append(i)\n",
    "print(li)\n",
    "for j in li:\n",
    "    print('The Plot for the ',j)\n",
    "    df[j].plot(kind = 'kde')\n",
    "    plt.show()"
   ]
  },
  {
   "cell_type": "markdown",
   "id": "ea1d433c",
   "metadata": {},
   "source": [
    "#### 11. List down columns that are highly skewed."
   ]
  },
  {
   "cell_type": "code",
   "execution_count": null,
   "id": "22c7a008",
   "metadata": {},
   "outputs": [],
   "source": [
    "sk = pd.DataFrame(sk_di)\n",
    "for i in sk.columns:\n",
    "    if sk[i] > 1:\n",
    "        print('The columns ',i,'are extremely skewed on the positive side')\n",
    "    elif sk[i]<1:\n",
    "        print('The Column',i,'are extremely skewed on the negative side')\n",
    "    else:\n",
    "        print('Normal')"
   ]
  },
  {
   "cell_type": "code",
   "execution_count": null,
   "id": "415b2605",
   "metadata": {},
   "outputs": [],
   "source": [
    "sk['Time']"
   ]
  },
  {
   "cell_type": "code",
   "execution_count": null,
   "id": "b218714d",
   "metadata": {},
   "outputs": [],
   "source": []
  }
 ],
 "metadata": {
  "kernelspec": {
   "display_name": "Python 3 (ipykernel)",
   "language": "python",
   "name": "python3"
  },
  "language_info": {
   "codemirror_mode": {
    "name": "ipython",
    "version": 3
   },
   "file_extension": ".py",
   "mimetype": "text/x-python",
   "name": "python",
   "nbconvert_exporter": "python",
   "pygments_lexer": "ipython3",
   "version": "3.9.13"
  }
 },
 "nbformat": 4,
 "nbformat_minor": 5
}
